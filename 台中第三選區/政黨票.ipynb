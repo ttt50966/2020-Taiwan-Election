{
  "cells": [
    {
      "cell_type": "code",
      "source": [
        "import pandas as pd\n",
        "import requests as re\n",
        "from bs4 import BeautifulSoup\n",
        "import time"
      ],
      "outputs": [],
      "execution_count": 3,
      "metadata": {
        "collapsed": false,
        "outputHidden": false,
        "inputHidden": false
      }
    },
    {
      "cell_type": "markdown",
      "source": [
        "## 區域立委"
      ],
      "metadata": {}
    },
    {
      "cell_type": "code",
      "source": [
        "city = \"大雅區\"\n",
        "url = \"https://www.cec.gov.tw/pc/zh_TW/L1/n66000031800000%s.html\"\n",
        "page = [538,590]\n",
        "url_array = []\n",
        "for i in range(page[0],page[1]+1):\n",
        "    url_array.append(url %(i))"
      ],
      "outputs": [],
      "execution_count": 13,
      "metadata": {
        "collapsed": false,
        "outputHidden": false,
        "inputHidden": false
      }
    },
    {
      "cell_type": "code",
      "source": [
        "a = []\n",
        "投票所 = []\n",
        "res = pd.read_html(url_array[0])\n",
        "候選人名 = res[3][2][1:8].values\n",
        "for url in url_array:\n",
        "    res = pd.read_html(url)\n",
        "    a.append(res[3][5][1:8].values)\n",
        "    投票所.append(url[-5-len(str(page[0])):-5])\n",
        "    time.sleep(0.5)\n",
        "df = pd.DataFrame(a)\n",
        "df.columns = 候選人名\n",
        "df.index = 投票所\n",
        "df.columns.names = ['投票所']"
      ],
      "outputs": [],
      "execution_count": 14,
      "metadata": {
        "collapsed": false,
        "outputHidden": false,
        "inputHidden": false
      }
    },
    {
      "cell_type": "code",
      "source": [
        "filename = \"%s_區域立委得票率.txt\" %(city)\n",
        "with open(filename, 'w') as f:\n",
        "    f.write('投票所' + df.to_csv())"
      ],
      "outputs": [],
      "execution_count": 15,
      "metadata": {
        "collapsed": false,
        "outputHidden": false,
        "inputHidden": false
      }
    },
    {
      "cell_type": "markdown",
      "source": [
        "## 政黨票"
      ],
      "metadata": {}
    },
    {
      "cell_type": "code",
      "source": [
        "city = \"潭子區\"\n",
        "url = \"https://www.cec.gov.tw/pc/zh_TW/L4/n66000001700000%s.html\"\n",
        "page = [591,661]\n",
        "url_array = []\n",
        "for i in range(page[0],page[1]+1):\n",
        "    url_array.append(url %(i))\n",
        "投票所 = []\n",
        "親民 = [] # 3\n",
        "基進 = [] # 5\n",
        "時力 = [] # 6\n",
        "國民 = [] # 9\n",
        "綠黨 = [] #12\n",
        "民進 = [] #14\n",
        "台民 = [] #15\n",
        "政黨 = [親民, 基進, 時力, 國民, 綠黨, 民進, 台民]\n",
        "政黨號碼 = [3,5,6,9,12,14,15]\n",
        "for url in url_array:\n",
        "    res = pd.read_html(url)\n",
        "    for i in range(7):\n",
        "        政黨[i].append(res[3][3][政黨號碼[i]])\n",
        "    if url[-9] == '0':\n",
        "        投票所.append(url[-8:-5])\n",
        "    else:\n",
        "        投票所.append(url[-9:-5])\n",
        "    time.sleep(0.5)\n",
        "filename = \"%s_政黨票得票率.txt\" %(city)\n",
        "with open(filename, 'w') as f:\n",
        "    f.write('投票所,親民,基進,時力,國民,綠黨,民進,台民\\n')\n",
        "    for i in range(len(投票所)):\n",
        "        f.write('%s,%s,%s,%s,%s,%s,%s,%s\\n' %(投票所[i],親民[i], 基進[i], 時力[i], 國民[i], 綠黨[i], 民進[i], 台民[i]))"
      ],
      "outputs": [],
      "execution_count": 19,
      "metadata": {
        "collapsed": false,
        "outputHidden": false,
        "inputHidden": false
      }
    },
    {
      "cell_type": "code",
      "source": [],
      "outputs": [],
      "execution_count": null,
      "metadata": {
        "collapsed": false,
        "outputHidden": false,
        "inputHidden": false
      }
    }
  ],
  "metadata": {
    "kernel_info": {
      "name": "python3"
    },
    "language_info": {
      "name": "python",
      "version": "3.7.4",
      "mimetype": "text/x-python",
      "codemirror_mode": {
        "name": "ipython",
        "version": 3
      },
      "pygments_lexer": "ipython3",
      "nbconvert_exporter": "python",
      "file_extension": ".py"
    },
    "kernelspec": {
      "name": "python3",
      "language": "python",
      "display_name": "Python 3"
    },
    "nteract": {
      "version": "0.15.0"
    }
  },
  "nbformat": 4,
  "nbformat_minor": 0
}