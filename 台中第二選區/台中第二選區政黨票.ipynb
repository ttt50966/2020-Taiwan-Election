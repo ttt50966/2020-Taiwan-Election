{
  "cells": [
    {
      "cell_type": "code",
      "source": [
        "import pandas as pd\n",
        "import requests as re\n",
        "from bs4 import BeautifulSoup\n",
        "import time"
      ],
      "outputs": [],
      "execution_count": 1,
      "metadata": {
        "collapsed": false,
        "outputHidden": false,
        "inputHidden": false
      }
    },
    {
      "cell_type": "markdown",
      "source": [
        "## 沙鹿區"
      ],
      "metadata": {}
    },
    {
      "cell_type": "code",
      "source": [
        "url = \"https://www.cec.gov.tw/pc/zh_TW/L4/n66000001300000%s.html\"\n",
        "# 0198 to 0268\n",
        "url_array = []\n",
        "for i in range(198,269):\n",
        "    url_array.append(url %(i))\n",
        "投票所 = []\n",
        "親民 = [] # 3\n",
        "基進 = [] # 5\n",
        "時力 = [] # 6\n",
        "國民 = [] # 9\n",
        "綠黨 = [] #12\n",
        "民進 = [] #14\n",
        "台民 = [] #15\n",
        "政黨 = [親民, 基進, 時力, 國民, 綠黨, 民進, 台民]\n",
        "政黨號碼 = [3,5,6,9,12,14,15]\n",
        "for url in url_array:\n",
        "    res = pd.read_html(url)\n",
        "    for i in range(7):\n",
        "        政黨[i].append(res[3][3][政黨號碼[i]])\n",
        "    投票所.append(url[-8:-5])\n",
        "    time.sleep(0.5)\n",
        "沙鹿區 = \"沙鹿區_政黨票得票率.txt\"\n",
        "with open(沙鹿區, 'w') as f:\n",
        "    f.write('投票所,親民,基進,時力,國民,綠黨,民進,台民\\n')\n",
        "    for i in range(len(投票所)):\n",
        "        f.write('%s,%s,%s,%s,%s,%s,%s,%s\\n' %(投票所[i],親民[i], 基進[i], 時力[i], 國民[i], 綠黨[i], 民進[i], 台民[i]))"
      ],
      "outputs": [],
      "execution_count": 9,
      "metadata": {
        "collapsed": false,
        "outputHidden": false,
        "inputHidden": false
      }
    },
    {
      "cell_type": "markdown",
      "source": [
        "## 烏日區"
      ],
      "metadata": {}
    },
    {
      "cell_type": "code",
      "source": [
        "url = \"https://www.cec.gov.tw/pc/zh_TW/L4/n66000002300000%s.html\"\n",
        "# 0357 to 0403\n",
        "url_array = []\n",
        "for i in range(357,404):\n",
        "    url_array.append(url %(i))\n",
        "投票所 = []\n",
        "親民 = [] # 3\n",
        "基進 = [] # 5\n",
        "時力 = [] # 6\n",
        "國民 = [] # 9\n",
        "綠黨 = [] #12\n",
        "民進 = [] #14\n",
        "台民 = [] #15\n",
        "政黨 = [親民, 基進, 時力, 國民, 綠黨, 民進, 台民]\n",
        "政黨號碼 = [3,5,6,9,12,14,15]\n",
        "for url in url_array:\n",
        "    res = pd.read_html(url)\n",
        "    for i in range(7):\n",
        "        政黨[i].append(res[3][3][政黨號碼[i]])\n",
        "    投票所.append(url[-8:-5])\n",
        "    time.sleep(0.5)\n",
        "烏日區 = \"烏日區_政黨票得票率.txt\"\n",
        "with open(烏日區, 'w') as f:\n",
        "    f.write('投票所,親民,基進,時力,國民,綠黨,民進,台民\\n')\n",
        "    for i in range(len(投票所)):\n",
        "        f.write('%s,%s,%s,%s,%s,%s,%s,%s\\n' %(投票所[i],親民[i], 基進[i], 時力[i], 國民[i], 綠黨[i], 民進[i], 台民[i]))"
      ],
      "outputs": [],
      "execution_count": 4,
      "metadata": {
        "collapsed": false,
        "outputHidden": false,
        "inputHidden": false
      }
    },
    {
      "cell_type": "markdown",
      "source": [
        "## 大肚區"
      ],
      "metadata": {}
    },
    {
      "cell_type": "code",
      "source": [
        "url = \"https://www.cec.gov.tw/pc/zh_TW/L4/n66000002400000%s.html\"\n",
        "# 0319 to 356\n",
        "url_array = []\n",
        "for i in range(319,357):\n",
        "    url_array.append(url %(i))\n",
        "投票所 = []\n",
        "親民 = [] # 3\n",
        "基進 = [] # 5\n",
        "時力 = [] # 6\n",
        "國民 = [] # 9\n",
        "綠黨 = [] #12\n",
        "民進 = [] #14\n",
        "台民 = [] #15\n",
        "政黨 = [親民, 基進, 時力, 國民, 綠黨, 民進, 台民]\n",
        "政黨號碼 = [3,5,6,9,12,14,15]\n",
        "for url in url_array:\n",
        "    res = pd.read_html(url)\n",
        "    for i in range(7):\n",
        "        政黨[i].append(res[3][3][政黨號碼[i]])\n",
        "    投票所.append(url[-8:-5])\n",
        "    time.sleep(0.5)\n",
        "大肚區 = \"大肚區_政黨票得票率.txt\"\n",
        "with open(大肚區, 'w') as f:\n",
        "    f.write('投票所,親民,基進,時力,國民,綠黨,民進,台民\\n')\n",
        "    for i in range(len(投票所)):\n",
        "        f.write('%s,%s,%s,%s,%s,%s,%s,%s\\n' %(投票所[i],親民[i], 基進[i], 時力[i], 國民[i], 綠黨[i], 民進[i], 台民[i]))"
      ],
      "outputs": [],
      "execution_count": 5,
      "metadata": {
        "collapsed": false,
        "outputHidden": false,
        "inputHidden": false
      }
    },
    {
      "cell_type": "markdown",
      "source": [
        "## 龍井區"
      ],
      "metadata": {}
    },
    {
      "cell_type": "code",
      "source": [
        "url = \"https://www.cec.gov.tw/pc/zh_TW/L4/n66000002500000%s.html\"\n",
        "# 0269 to 318\n",
        "url_array = []\n",
        "for i in range(269,319):\n",
        "    url_array.append(url %(i))\n",
        "投票所 = []\n",
        "親民 = [] # 3\n",
        "基進 = [] # 5\n",
        "時力 = [] # 6\n",
        "國民 = [] # 9\n",
        "綠黨 = [] #12\n",
        "民進 = [] #14\n",
        "台民 = [] #15\n",
        "政黨 = [親民, 基進, 時力, 國民, 綠黨, 民進, 台民]\n",
        "政黨號碼 = [3,5,6,9,12,14,15]\n",
        "for url in url_array:\n",
        "    res = pd.read_html(url)\n",
        "    for i in range(7):\n",
        "        政黨[i].append(res[3][3][政黨號碼[i]])\n",
        "    投票所.append(url[-8:-5])\n",
        "    time.sleep(0.5)\n",
        "龍井區 = \"龍井區_政黨票得票率.txt\"\n",
        "with open(龍井區, 'w') as f:\n",
        "    f.write('投票所,親民,基進,時力,國民,綠黨,民進,台民\\n')\n",
        "    for i in range(len(投票所)):\n",
        "        f.write('%s,%s,%s,%s,%s,%s,%s,%s\\n' %(投票所[i],親民[i], 基進[i], 時力[i], 國民[i], 綠黨[i], 民進[i], 台民[i]))"
      ],
      "outputs": [],
      "execution_count": 6,
      "metadata": {
        "collapsed": false,
        "outputHidden": false,
        "inputHidden": false
      }
    },
    {
      "cell_type": "markdown",
      "source": [
        "## 霧峰區"
      ],
      "metadata": {}
    },
    {
      "cell_type": "code",
      "source": [
        "url = \"https://www.cec.gov.tw/pc/zh_TW/L4/n66000002600000%s.html\"\n",
        "# 0404 to 451\n",
        "url_array = []\n",
        "for i in range(404,452):\n",
        "    url_array.append(url %(i))\n",
        "投票所 = []\n",
        "親民 = [] # 3\n",
        "基進 = [] # 5\n",
        "時力 = [] # 6\n",
        "國民 = [] # 9\n",
        "綠黨 = [] #12\n",
        "民進 = [] #14\n",
        "台民 = [] #15\n",
        "政黨 = [親民, 基進, 時力, 國民, 綠黨, 民進, 台民]\n",
        "政黨號碼 = [3,5,6,9,12,14,15]\n",
        "for url in url_array:\n",
        "    res = pd.read_html(url)\n",
        "    for i in range(7):\n",
        "        政黨[i].append(res[3][3][政黨號碼[i]])\n",
        "    投票所.append(url[-8:-5])\n",
        "    time.sleep(0.5)\n",
        "霧峰區 = \"霧峰區_政黨票得票率.txt\"\n",
        "with open(霧峰區, 'w') as f:\n",
        "    f.write('投票所,親民,基進,時力,國民,綠黨,民進,台民\\n')\n",
        "    for i in range(len(投票所)):\n",
        "        f.write('%s,%s,%s,%s,%s,%s,%s,%s\\n' %(投票所[i],親民[i], 基進[i], 時力[i], 國民[i], 綠黨[i], 民進[i], 台民[i]))"
      ],
      "outputs": [],
      "execution_count": 7,
      "metadata": {
        "collapsed": false,
        "outputHidden": false,
        "inputHidden": false
      }
    },
    {
      "cell_type": "code",
      "source": [],
      "outputs": [],
      "execution_count": null,
      "metadata": {
        "collapsed": false,
        "outputHidden": false,
        "inputHidden": false
      }
    }
  ],
  "metadata": {
    "kernel_info": {
      "name": "python3"
    },
    "language_info": {
      "name": "python",
      "version": "3.7.4",
      "mimetype": "text/x-python",
      "codemirror_mode": {
        "name": "ipython",
        "version": 3
      },
      "pygments_lexer": "ipython3",
      "nbconvert_exporter": "python",
      "file_extension": ".py"
    },
    "kernelspec": {
      "name": "python3",
      "language": "python",
      "display_name": "Python 3"
    },
    "nteract": {
      "version": "0.15.0"
    }
  },
  "nbformat": 4,
  "nbformat_minor": 0
}