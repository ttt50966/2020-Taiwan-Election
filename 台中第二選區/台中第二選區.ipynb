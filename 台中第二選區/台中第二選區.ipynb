{
  "cells": [
    {
      "cell_type": "code",
      "source": [
        "import pandas as pd\n",
        "import requests as re\n",
        "from bs4 import BeautifulSoup\n",
        "import time"
      ],
      "outputs": [],
      "execution_count": 1,
      "metadata": {
        "collapsed": false,
        "outputHidden": false,
        "inputHidden": false
      }
    },
    {
      "cell_type": "markdown",
      "source": [
        "## 沙鹿區"
      ],
      "metadata": {}
    },
    {
      "cell_type": "code",
      "source": [
        "url = \"https://www.cec.gov.tw/pc/zh_TW/L1/n66000021300000%s.html\"\n",
        "# 0198 to 0268\n",
        "url_array = []\n",
        "for i in range(198,269):\n",
        "    url_array.append(url %(i))\n",
        "url_array[3]"
      ],
      "outputs": [
        {
          "output_type": "execute_result",
          "execution_count": 2,
          "data": {
            "text/plain": [
              "'https://www.cec.gov.tw/pc/zh_TW/L1/n66000021300000201.html'"
            ]
          },
          "metadata": {}
        }
      ],
      "execution_count": 2,
      "metadata": {
        "collapsed": false,
        "outputHidden": false,
        "inputHidden": false
      }
    },
    {
      "cell_type": "code",
      "source": [
        "投票所 = []\n",
        "顏寬恆 = []\n",
        "陳柏惟 = []\n",
        "for url in url_array:\n",
        "    res = pd.read_html(url)\n",
        "    顏寬恆.append(res[3][5][1:3].values[0])\n",
        "    陳柏惟.append(res[3][5][1:3].values[1])\n",
        "    投票所.append(url[-8:-5])\n",
        "    time.sleep(0.5)"
      ],
      "outputs": [],
      "execution_count": 3,
      "metadata": {
        "collapsed": false,
        "outputHidden": false,
        "inputHidden": false
      }
    },
    {
      "cell_type": "code",
      "source": [
        "沙鹿區 = \"沙鹿區_區域立委得票率.txt\"\n",
        "with open(沙鹿區, 'w') as f:\n",
        "    f.write('投票所,顏寬恆,陳柏惟\\n')\n",
        "    for i in range(len(投票所)):\n",
        "        f.write('%s,%s,%s\\n' %(投票所[i],顏寬恆[i],陳柏惟[i]))"
      ],
      "outputs": [],
      "execution_count": 10,
      "metadata": {
        "collapsed": false,
        "outputHidden": false,
        "inputHidden": false
      }
    },
    {
      "cell_type": "code",
      "source": [
        "df = pd.read_csv(沙鹿區)\n",
        "df.head()"
      ],
      "outputs": [
        {
          "output_type": "execute_result",
          "execution_count": 16,
          "data": {
            "text/plain": [
              "   投票所      顏寬恆      陳柏惟\n",
              "0  198  38.3701  61.6299\n",
              "1  199  51.3126  48.6874\n",
              "2  200  44.8718  55.1282\n",
              "3  201  50.6637  49.3363\n",
              "4  202  38.7413  61.2587"
            ],
            "text/html": [
              "<div>\n",
              "<style scoped>\n",
              "    .dataframe tbody tr th:only-of-type {\n",
              "        vertical-align: middle;\n",
              "    }\n",
              "\n",
              "    .dataframe tbody tr th {\n",
              "        vertical-align: top;\n",
              "    }\n",
              "\n",
              "    .dataframe thead th {\n",
              "        text-align: right;\n",
              "    }\n",
              "</style>\n",
              "<table border=\"1\" class=\"dataframe\">\n",
              "  <thead>\n",
              "    <tr style=\"text-align: right;\">\n",
              "      <th></th>\n",
              "      <th>投票所</th>\n",
              "      <th>顏寬恆</th>\n",
              "      <th>陳柏惟</th>\n",
              "    </tr>\n",
              "  </thead>\n",
              "  <tbody>\n",
              "    <tr>\n",
              "      <td>0</td>\n",
              "      <td>198</td>\n",
              "      <td>38.3701</td>\n",
              "      <td>61.6299</td>\n",
              "    </tr>\n",
              "    <tr>\n",
              "      <td>1</td>\n",
              "      <td>199</td>\n",
              "      <td>51.3126</td>\n",
              "      <td>48.6874</td>\n",
              "    </tr>\n",
              "    <tr>\n",
              "      <td>2</td>\n",
              "      <td>200</td>\n",
              "      <td>44.8718</td>\n",
              "      <td>55.1282</td>\n",
              "    </tr>\n",
              "    <tr>\n",
              "      <td>3</td>\n",
              "      <td>201</td>\n",
              "      <td>50.6637</td>\n",
              "      <td>49.3363</td>\n",
              "    </tr>\n",
              "    <tr>\n",
              "      <td>4</td>\n",
              "      <td>202</td>\n",
              "      <td>38.7413</td>\n",
              "      <td>61.2587</td>\n",
              "    </tr>\n",
              "  </tbody>\n",
              "</table>\n",
              "</div>"
            ]
          },
          "metadata": {}
        }
      ],
      "execution_count": 16,
      "metadata": {
        "collapsed": false,
        "outputHidden": false,
        "inputHidden": false
      }
    },
    {
      "cell_type": "markdown",
      "source": [
        "## 烏日區"
      ],
      "metadata": {}
    },
    {
      "cell_type": "code",
      "source": [
        "url = \"https://www.cec.gov.tw/pc/zh_TW/L1/n66000022300000%s.html\"\n",
        "# 0357 to 0403\n",
        "url_array = []\n",
        "for i in range(357,404):\n",
        "    url_array.append(url %(i))\n",
        "投票所 = []\n",
        "顏寬恆 = []\n",
        "陳柏惟 = []\n",
        "for url in url_array:\n",
        "    res = pd.read_html(url)\n",
        "    顏寬恆.append(res[3][5][1:3].values[0])\n",
        "    陳柏惟.append(res[3][5][1:3].values[1])\n",
        "    投票所.append(url[-8:-5])\n",
        "    time.sleep(0.5)\n",
        "烏日區 = \"烏日區_區域立委得票率.txt\"\n",
        "with open(烏日區, 'w') as f:\n",
        "    f.write('投票所,顏寬恆,陳柏惟\\n')\n",
        "    for i in range(len(投票所)):\n",
        "        f.write('%s,%s,%s\\n' %(投票所[i],顏寬恆[i],陳柏惟[i]))"
      ],
      "outputs": [],
      "execution_count": 18,
      "metadata": {
        "collapsed": false,
        "outputHidden": false,
        "inputHidden": false
      }
    },
    {
      "cell_type": "markdown",
      "source": [
        "## 大肚區"
      ],
      "metadata": {}
    },
    {
      "cell_type": "code",
      "source": [
        "url = \"https://www.cec.gov.tw/pc/zh_TW/L1/n66000022400000%s.html\"\n",
        "# 0319 to 0356\n",
        "url_array = []\n",
        "for i in range(319,357):\n",
        "    url_array.append(url %(i))\n",
        "投票所 = []\n",
        "顏寬恆 = []\n",
        "陳柏惟 = []\n",
        "for url in url_array:\n",
        "    res = pd.read_html(url)\n",
        "    顏寬恆.append(res[3][5][1:3].values[0])\n",
        "    陳柏惟.append(res[3][5][1:3].values[1])\n",
        "    投票所.append(url[-8:-5])\n",
        "    time.sleep(0.5)\n",
        "大肚區 = \"大肚區_區域立委得票率.txt\"\n",
        "with open(大肚區, 'w') as f:\n",
        "    f.write('投票所,顏寬恆,陳柏惟\\n')\n",
        "    for i in range(len(投票所)):\n",
        "        f.write('%s,%s,%s\\n' %(投票所[i],顏寬恆[i],陳柏惟[i]))"
      ],
      "outputs": [],
      "execution_count": 19,
      "metadata": {
        "collapsed": false,
        "outputHidden": false,
        "inputHidden": false
      }
    },
    {
      "cell_type": "markdown",
      "source": [
        "## 龍井區"
      ],
      "metadata": {}
    },
    {
      "cell_type": "code",
      "source": [
        "url = \"https://www.cec.gov.tw/pc/zh_TW/L1/n66000022500000%s.html\"\n",
        "# 0269 to 0318\n",
        "url_array = []\n",
        "for i in range(269,319):\n",
        "    url_array.append(url %(i))\n",
        "投票所 = []\n",
        "顏寬恆 = []\n",
        "陳柏惟 = []\n",
        "for url in url_array:\n",
        "    res = pd.read_html(url)\n",
        "    顏寬恆.append(res[3][5][1:3].values[0])\n",
        "    陳柏惟.append(res[3][5][1:3].values[1])\n",
        "    投票所.append(url[-8:-5])\n",
        "    time.sleep(0.5)\n",
        "龍井區 = \"龍井區_區域立委得票率.txt\"\n",
        "with open(龍井區, 'w') as f:\n",
        "    f.write('投票所,顏寬恆,陳柏惟\\n')\n",
        "    for i in range(len(投票所)):\n",
        "        f.write('%s,%s,%s\\n' %(投票所[i],顏寬恆[i],陳柏惟[i]))"
      ],
      "outputs": [],
      "execution_count": 20,
      "metadata": {
        "collapsed": false,
        "outputHidden": false,
        "inputHidden": false
      }
    },
    {
      "cell_type": "markdown",
      "source": [
        "## 霧峰區"
      ],
      "metadata": {}
    },
    {
      "cell_type": "code",
      "source": [
        "url = \"https://www.cec.gov.tw/pc/zh_TW/L1/n66000022600000%s.html\"\n",
        "# 0404 to 0451\n",
        "url_array = []\n",
        "for i in range(404,452):\n",
        "    url_array.append(url %(i))\n",
        "投票所 = []\n",
        "顏寬恆 = []\n",
        "陳柏惟 = []\n",
        "for url in url_array:\n",
        "    res = pd.read_html(url)\n",
        "    顏寬恆.append(res[3][5][1:3].values[0])\n",
        "    陳柏惟.append(res[3][5][1:3].values[1])\n",
        "    投票所.append(url[-8:-5])\n",
        "    time.sleep(0.5)\n",
        "霧峰區 = \"霧峰區_區域立委得票率.txt\"\n",
        "with open(霧峰區, 'w') as f:\n",
        "    f.write('投票所,顏寬恆,陳柏惟\\n')\n",
        "    for i in range(len(投票所)):\n",
        "        f.write('%s,%s,%s\\n' %(投票所[i],顏寬恆[i],陳柏惟[i]))"
      ],
      "outputs": [],
      "execution_count": 21,
      "metadata": {
        "collapsed": false,
        "outputHidden": false,
        "inputHidden": false
      }
    },
    {
      "cell_type": "code",
      "source": [],
      "outputs": [],
      "execution_count": null,
      "metadata": {
        "collapsed": false,
        "outputHidden": false,
        "inputHidden": false
      }
    }
  ],
  "metadata": {
    "kernel_info": {
      "name": "python3"
    },
    "language_info": {
      "name": "python",
      "version": "3.7.4",
      "mimetype": "text/x-python",
      "codemirror_mode": {
        "name": "ipython",
        "version": 3
      },
      "pygments_lexer": "ipython3",
      "nbconvert_exporter": "python",
      "file_extension": ".py"
    },
    "kernelspec": {
      "name": "python3",
      "language": "python",
      "display_name": "Python 3"
    },
    "nteract": {
      "version": "0.15.0"
    }
  },
  "nbformat": 4,
  "nbformat_minor": 0
}